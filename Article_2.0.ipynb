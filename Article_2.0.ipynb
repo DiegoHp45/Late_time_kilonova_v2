{
 "cells": [
  {
   "cell_type": "markdown",
   "id": "f02a6b55",
   "metadata": {},
   "source": [
    "Late time kilonova\n",
    "\n",
    "In this code we will post-processes the results for NSM simulations perform by Winnet."
   ]
  },
  {
   "cell_type": "markdown",
   "id": "580019d5",
   "metadata": {},
   "source": [
    "-Libraries"
   ]
  },
  {
   "cell_type": "code",
   "execution_count": 2,
   "id": "62dc0db1",
   "metadata": {},
   "outputs": [],
   "source": [
    "#libraries\n",
    "\n",
    "#Data\n",
    "import pandas as pd\n",
    "#import h5py\n",
    "\n",
    "#Plots\n",
    "import matplotlib.pyplot as plt\n",
    "\n",
    "#fits\n",
    "#from scipy.optimize import curve_fit\n",
    "\n",
    "#math\n",
    "import numpy as np\n",
    "\n",
    "#Constants\n",
    "#from scipy.constants import speed_of_light as c\n",
    "#from scipy.constants import Avogadro as N_A\n",
    "#from scipy.constants import Boltzmann as kb\n",
    "#from scipy.constants import Stefan_Boltzmann as Sb\n",
    "\n",
    "#Usefull\n",
    "from tqdm.notebook import tqdm\n",
    "import os\n",
    "from scipy.interpolate import interp1d\n",
    "#%matplotlib widget"
   ]
  },
  {
   "cell_type": "markdown",
   "id": "cd649d86",
   "metadata": {},
   "source": [
    "-Reading data without HDF5 format"
   ]
  },
  {
   "cell_type": "code",
   "execution_count": null,
   "id": "92351b62",
   "metadata": {},
   "outputs": [
    {
     "data": {
      "application/vnd.jupyter.widget-view+json": {
       "model_id": "b80d1c55864845dd85b1ddf32400a404",
       "version_major": 2,
       "version_minor": 0
      },
      "text/plain": [
       "  0%|          | 0/554 [00:00<?, ?it/s]"
      ]
     },
     "metadata": {},
     "output_type": "display_data"
    }
   ],
   "source": [
    "\n",
    "\n",
    "folder = 'Example_NSM_dyn_ejecta_rosswog_varios_t_sinalpha\\snaps'\n",
    "files = os.listdir(folder)\n",
    "\n",
    "abundances_winnet=[]\n",
    "time_Winnet=[]\n",
    "\n",
    "for f in tqdm(files):\n",
    "\n",
    "    abundances_winnet.append(np.loadtxt(os.path.join(folder, f), skiprows=3))\n",
    "    time_Winnet.append(float(np.loadtxt(os.path.join(folder, f), skiprows=1,max_rows=1, usecols=0)))\n",
    "\n",
    "abundances_winnet = np.array(abundances_winnet)\n",
    "time_Winnet = np.array(time_Winnet) "
   ]
  },
  {
   "cell_type": "markdown",
   "id": "627378f5",
   "metadata": {},
   "source": [
    "-Interpolation"
   ]
  },
  {
   "cell_type": "code",
   "execution_count": 3,
   "id": "3817a0d3",
   "metadata": {},
   "outputs": [
    {
     "data": {
      "application/vnd.jupyter.widget-view+json": {
       "model_id": "48bc2c970ab147cf97898aeaccfa896b",
       "version_major": 2,
       "version_minor": 0
      },
      "text/plain": [
       "  0%|          | 0/6757 [00:00<?, ?it/s]"
      ]
     },
     "metadata": {},
     "output_type": "display_data"
    }
   ],
   "source": [
    "initial_time=1 #seconds\n",
    "final_time=24*60*60 #seconds\n",
    "N_steps=10000\n",
    "time = np.exp(np.linspace(np.log(initial_time), np.log(final_time), N_steps))\n",
    "abundances_time= np.empty((abundances_winnet.shape[1],N_steps))\n",
    "for i in tqdm(range(abundances_winnet.shape[1])):\n",
    "    spline_interp = interp1d(time_Winnet, abundances_winnet[:,i,3], kind='linear')\n",
    "    abundances_time[i] = spline_interp(time)"
   ]
  },
  {
   "cell_type": "markdown",
   "id": "3ca4afdb",
   "metadata": {},
   "source": [
    "-Funtion that finds the nuclei and return X_i(t)"
   ]
  },
  {
   "cell_type": "code",
   "execution_count": null,
   "id": "9f90c49b",
   "metadata": {},
   "outputs": [],
   "source": [
    "\n",
    "def abundance_time_of_nuclei_n_z(n,z):\n",
    "    \n",
    "    idx_start = np.searchsorted(abundances_winnet[0,:,1], z, side='left')\n",
    "    idx_end = np.searchsorted(abundances_winnet[0,:,1], z, side='right')\n",
    "    if idx_end>idx_start:\n",
    "        j=np.searchsorted(abundances_winnet[0,:,0][idx_start:idx_end],n)+idx_start\n",
    "        if abundances_winnet[0,:,0][j]==n and abundances_winnet[0,:,1][j]==z:\n",
    "            return abundances_time[j]\n",
    "        else:\n",
    "            return np.zeros(N_steps)\n",
    "    else:\n",
    "        return np.zeros(N_steps)"
   ]
  },
  {
   "cell_type": "markdown",
   "id": "7c43d75e",
   "metadata": {},
   "source": [
    "-Masses of nuclei"
   ]
  },
  {
   "cell_type": "code",
   "execution_count": null,
   "id": "343153e0",
   "metadata": {},
   "outputs": [],
   "source": [
    "file_masses=\"/mnt/c/users/Diego_Hernandez/winnet/WinNet-master/WinNet-master/data/winvne_v2.0.dat\""
   ]
  }
 ],
 "metadata": {
  "kernelspec": {
   "display_name": "Python 3",
   "language": "python",
   "name": "python3"
  },
  "language_info": {
   "codemirror_mode": {
    "name": "ipython",
    "version": 3
   },
   "file_extension": ".py",
   "mimetype": "text/x-python",
   "name": "python",
   "nbconvert_exporter": "python",
   "pygments_lexer": "ipython3",
   "version": "3.10.11"
  }
 },
 "nbformat": 4,
 "nbformat_minor": 5
}
