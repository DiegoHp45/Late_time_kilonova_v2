{
 "cells": [
  {
   "cell_type": "markdown",
   "id": "f02a6b55",
   "metadata": {},
   "source": [
    "Late time kilonova\n",
    "\n",
    "In this code we will post-processes the results for NSM simulations perform by Winnet."
   ]
  },
  {
   "cell_type": "markdown",
   "id": "580019d5",
   "metadata": {},
   "source": [
    "-Libraries"
   ]
  },
  {
   "cell_type": "code",
   "execution_count": 1,
   "id": "62dc0db1",
   "metadata": {},
   "outputs": [],
   "source": [
    "#libraries\n",
    "\n",
    "#Data\n",
    "import pandas as pd\n",
    "#import h5py\n",
    "\n",
    "#Plots\n",
    "import matplotlib.pyplot as plt\n",
    "\n",
    "#fits\n",
    "#from scipy.optimize import curve_fit\n",
    "\n",
    "#math\n",
    "import numpy as np\n",
    "\n",
    "#Constants\n",
    "#from scipy.constants import speed_of_light as c\n",
    "#from scipy.constants import Avogadro as N_A\n",
    "#from scipy.constants import Boltzmann as kb\n",
    "#from scipy.constants import Stefan_Boltzmann as Sb\n",
    "\n",
    "#Usefull\n",
    "from tqdm.notebook import tqdm\n",
    "import os\n",
    "from scipy.interpolate import interp1d\n",
    "import pynucastro as pyna\n",
    "#%matplotlib widget"
   ]
  },
  {
   "cell_type": "markdown",
   "id": "cd649d86",
   "metadata": {},
   "source": [
    "-Reading data without HDF5 format"
   ]
  },
  {
   "cell_type": "code",
   "execution_count": 2,
   "id": "92351b62",
   "metadata": {},
   "outputs": [
    {
     "data": {
      "application/vnd.jupyter.widget-view+json": {
       "model_id": "baebe0e0def24dcca5a87c57a174577f",
       "version_major": 2,
       "version_minor": 0
      },
      "text/plain": [
       "  0%|          | 0/554 [00:00<?, ?it/s]"
      ]
     },
     "metadata": {},
     "output_type": "display_data"
    }
   ],
   "source": [
    "\n",
    "\n",
    "folder = 'Example_NSM_dyn_ejecta_rosswog_varios_t_sinalpha\\snaps'\n",
    "files = os.listdir(folder)\n",
    "\n",
    "abundances_winnet=[]\n",
    "time_Winnet=[]\n",
    "temperature_winnet=[]\n",
    "density_winnet=[]\n",
    "\n",
    "for f in tqdm(files):\n",
    "\n",
    "    abundances_winnet.append(np.loadtxt(os.path.join(folder, f), skiprows=3))\n",
    "    time_Winnet.append(float(np.loadtxt(os.path.join(folder, f), skiprows=1,max_rows=1, usecols=0)))\n",
    "    temperature_winnet.append(float(np.loadtxt(os.path.join(folder, f), skiprows=1,max_rows=1, usecols=1)))\n",
    "    density_winnet.append(float(np.loadtxt(os.path.join(folder, f), skiprows=1,max_rows=1, usecols=2)))\n",
    "\n",
    "abundances_winnet = np.array(abundances_winnet)\n",
    "time_Winnet = np.array(time_Winnet) "
   ]
  },
  {
   "cell_type": "markdown",
   "id": "627378f5",
   "metadata": {},
   "source": [
    "-Interpolation"
   ]
  },
  {
   "cell_type": "code",
   "execution_count": 3,
   "id": "3817a0d3",
   "metadata": {},
   "outputs": [
    {
     "data": {
      "application/vnd.jupyter.widget-view+json": {
       "model_id": "f6a5cdb678da4953a1ce2f65f538052d",
       "version_major": 2,
       "version_minor": 0
      },
      "text/plain": [
       "  0%|          | 0/6757 [00:00<?, ?it/s]"
      ]
     },
     "metadata": {},
     "output_type": "display_data"
    }
   ],
   "source": [
    "initial_time=1 #seconds\n",
    "final_time=24*60*60 #seconds\n",
    "N_steps=10000\n",
    "time = np.exp(np.linspace(np.log(initial_time), np.log(final_time), N_steps))\n",
    "abundances_time= np.empty((abundances_winnet.shape[1],N_steps))\n",
    "for i in tqdm(range(abundances_winnet.shape[1])):\n",
    "    spline_interp = interp1d(time_Winnet, abundances_winnet[:,i,3], kind='linear')\n",
    "    abundances_time[i] = spline_interp(time)\n",
    "spline_interp_temp=interp1d(time_Winnet,temperature_winnet,kind='linear')\n",
    "spline_interp_density=interp1d(time_Winnet,density_winnet,kind='linear')\n",
    "temperature=spline_interp_temp(time)\n",
    "density=spline_interp_density(time)"
   ]
  },
  {
   "cell_type": "markdown",
   "id": "3ca4afdb",
   "metadata": {},
   "source": [
    "-Funtion that finds the nuclei and return X_i(t)"
   ]
  },
  {
   "cell_type": "code",
   "execution_count": 4,
   "id": "9f90c49b",
   "metadata": {},
   "outputs": [],
   "source": [
    "\n",
    "def abundance_time_of_nuclei_n_z(n,z):\n",
    "    \n",
    "    idx_start = np.searchsorted(abundances_winnet[0,:,1], z, side='left')\n",
    "    idx_end = np.searchsorted(abundances_winnet[0,:,1], z, side='right')\n",
    "    if idx_end>idx_start:\n",
    "        j=np.searchsorted(abundances_winnet[0,:,0][idx_start:idx_end],n)+idx_start\n",
    "        if abundances_winnet[0,:,0][j]==n and abundances_winnet[0,:,1][j]==z:\n",
    "            return abundances_time[j]\n",
    "        else:\n",
    "            return np.zeros(N_steps)\n",
    "    else:\n",
    "        return np.zeros(N_steps)"
   ]
  },
  {
   "cell_type": "markdown",
   "id": "7c43d75e",
   "metadata": {},
   "source": [
    "-Propeties of nucleis"
   ]
  },
  {
   "cell_type": "code",
   "execution_count": 35,
   "id": "2aa5dca0",
   "metadata": {},
   "outputs": [],
   "source": [
    "nuclear_data=pd.read_csv('Nuclear_data\\Mass\\winvne_v2.0.dat',skiprows=lambda x: not (x>7854 and (x-7855)%4==0),delim_whitespace=True,names=['name','A','Z','N','spin','Mass excess (Mev)','source'])\n",
    "def index_winv_v2(z,n):\n",
    "        \n",
    "    idx_start = np.searchsorted(nuclear_data['Z'], z, side='left')\n",
    "    idx_end = np.searchsorted(nuclear_data['Z'], z, side='right')\n",
    "    if idx_end>idx_start:\n",
    "        j=np.searchsorted(nuclear_data['N'][idx_start:idx_end],n)+idx_start\n",
    "        if nuclear_data['N'][j]==n and nuclear_data['Z'][j]==z:\n",
    "            return j\n",
    "        else:\n",
    "            return 'None'\n",
    "    else:\n",
    "        return 'None'"
   ]
  },
  {
   "cell_type": "markdown",
   "id": "f56e9d71",
   "metadata": {},
   "source": [
    "-Rates"
   ]
  },
  {
   "cell_type": "code",
   "execution_count": 83,
   "id": "c05dcc23",
   "metadata": {},
   "outputs": [
    {
     "name": "stderr",
     "output_type": "stream",
     "text": [
      "C:\\Users\\Diego Hernandez\\AppData\\Local\\Temp\\ipykernel_15056\\133996992.py:2: ParserWarning: Falling back to the 'python' engine because the 'c' engine does not support regex separators (separators > 1 char and different from '\\s+' are interpreted as regex); you can avoid this warning by specifying engine='python'.\n",
      "  nuclear_rates_chapter_2=pd.read_csv('Nuclear_data\\decays\\Reaclib_18_9_20', skiprows=lambda x: not( x>=22447 and x<87001 and (x-22446)%3==0),sep='\\s\\s+',header=None,names=['reactants','product1','product2','source','Q value (Mev)'])\n"
     ]
    }
   ],
   "source": [
    "nuclear_rates_chapter_1=pd.read_csv('Nuclear_data\\decays\\Reaclib_18_9_20', skiprows=lambda x: not( x>2 and x<22447 and (x-3)%3==0),sep='\\s+',header=None,names=['reactants','products','source','Q value (Mev)'])\n",
    "nuclear_rates_chapter_2=pd.read_csv('Nuclear_data\\decays\\Reaclib_18_9_20', skiprows=lambda x: not( x>=22447 and x<87001 and (x-22446)%3==0),sep='\\s\\s+',header=None,names=['reactants','product1','product2','source','Q value (Mev)'])"
   ]
  },
  {
   "cell_type": "code",
   "execution_count": 84,
   "id": "7762e1cb",
   "metadata": {},
   "outputs": [
    {
     "data": {
      "application/vnd.microsoft.datawrangler.viewer.v0+json": {
       "columns": [
        {
         "name": "index",
         "rawType": "int64",
         "type": "integer"
        },
        {
         "name": "reactants",
         "rawType": "object",
         "type": "string"
        },
        {
         "name": "product1",
         "rawType": "object",
         "type": "unknown"
        },
        {
         "name": "product2",
         "rawType": "object",
         "type": "unknown"
        },
        {
         "name": "source",
         "rawType": "object",
         "type": "unknown"
        },
        {
         "name": "Q value (Mev)",
         "rawType": "float64",
         "type": "float"
        }
       ],
       "conversionMethod": "pd.DataFrame",
       "ref": "a1a2d41c-8421-4ec3-b504-e418f545e0fd",
       "rows": [
        [
         "0",
         "d",
         "n",
         "p",
         "an06nv",
         "-2.22457"
        ],
        [
         "1",
         "d",
         "n",
         "p",
         "an06nv",
         "-2.22457"
        ],
        [
         "2",
         "d",
         "n",
         "p",
         "an06nv",
         "-2.22457"
        ],
        [
         "3",
         "t",
         "n",
         "d",
         "nk06nv",
         "-6.25737"
        ],
        [
         "4",
         "t",
         "n",
         "d",
         "nk06nv",
         "-6.25737"
        ],
        [
         "5",
         "he3",
         "p",
         "d",
         "de04 v",
         "-5.493"
        ],
        [
         "6",
         "he3",
         "p",
         "d",
         "de04nv",
         "-5.493"
        ],
        [
         "7",
         "he4",
         "n",
         "he3",
         "ka02nv",
         "-20.5774"
        ],
        [
         "8",
         "he4",
         "n",
         "he3",
         "ka02nv",
         "-20.5774"
        ],
        [
         "9",
         "he4",
         "p",
         "t",
         "cf88nv",
         "-19.814"
        ],
        [
         "10",
         "he4",
         "d",
         "d",
         "nacrnv",
         "-23.847"
        ],
        [
         "11",
         "he8",
         "n",
         "li7",
         "wc12w",
         "8.6306"
        ],
        [
         "12",
         "li6",
         "he4",
         "d",
         "mb11rv",
         "-1.47385"
        ],
        [
         "13",
         "li6",
         "he4",
         "d",
         "mb11nv",
         "-1.47385"
        ],
        [
         "14",
         "li7",
         "n",
         "li6",
         "jz10nv",
         "-7.25037"
        ],
        [
         "15",
         "li7",
         "he4",
         "t",
         "de04 v",
         "-2.467"
        ],
        [
         "16",
         "li8",
         "n",
         "li7",
         "ks03 v",
         "-2.0323"
        ],
        [
         "17",
         "li8",
         "he4",
         "he4",
         "wc12w",
         "16.0952"
        ],
        [
         "18",
         "li9",
         "n",
         "li8",
         "wiesnv",
         "-4.06237"
        ],
        [
         "19",
         "li9",
         "n",
         "li8",
         "wiesrv",
         "-4.06237"
        ],
        [
         "20",
         "li9",
         "n",
         "be8",
         "wc17w",
         "11.9417"
        ],
        [
         "21",
         "li11",
         "n be10",
         "wc17w",
         "2.00497e+01",
         null
        ],
        [
         "22",
         "be7",
         "p",
         "li6",
         "nacrnv",
         "-5.606"
        ],
        [
         "23",
         "be7",
         "he4",
         "he3",
         "cd08nv",
         "-1.5861"
        ],
        [
         "24",
         "be7",
         "he4",
         "he3",
         "cd08nv",
         "-1.5861"
        ],
        [
         "25",
         "be10",
         "n",
         "be9",
         "ks03 v",
         "-6.8123"
        ],
        [
         "26",
         "be11",
         "n be10",
         "wiesrv",
         "-5.04369e-01",
         null
        ],
        [
         "27",
         "be11",
         "he4",
         "li7",
         "wc12w",
         "2.845"
        ],
        [
         "28",
         "be12",
         "n be11",
         "wiesrv",
         "-3.16837e+00",
         null
        ],
        [
         "29",
         "be12",
         "n",
         "b11",
         "wc12w",
         "8.3377"
        ],
        [
         "30",
         "be14",
         "n",
         "b13",
         "wc17w",
         "15.3207"
        ],
        [
         "31",
         "be15",
         "n be14",
         "wc12s",
         "1.77270e+00",
         null
        ],
        [
         "32",
         "b8",
         "p",
         "be7",
         "nacrrv",
         "-0.137"
        ],
        [
         "33",
         "b8",
         "p",
         "be7",
         "nacrnv",
         "-0.137"
        ],
        [
         "34",
         "b8",
         "he4",
         "he4",
         "wc12w",
         "18.0712"
        ],
        [
         "35",
         "b10",
         "p",
         "be9",
         "nacrrv",
         "-6.586"
        ],
        [
         "36",
         "b10",
         "p",
         "be9",
         "nacrnv",
         "-6.586"
        ],
        [
         "37",
         "b10",
         "p",
         "be9",
         "nacrrv",
         "-6.586"
        ],
        [
         "38",
         "b10",
         "he4",
         "li6",
         "cf88rv",
         "-4.46"
        ],
        [
         "39",
         "b10",
         "he4",
         "li6",
         "cf88nv",
         "-4.46"
        ],
        [
         "40",
         "b11",
         "n",
         "b10",
         "wagnv",
         "-11.4544"
        ],
        [
         "41",
         "b11",
         "p be10",
         "wagnv",
         "-1.12280e+01",
         null
        ],
        [
         "42",
         "b11",
         "he4",
         "li7",
         "nacrrv",
         "-8.664"
        ],
        [
         "43",
         "b11",
         "he4",
         "li7",
         "nacrrv",
         "-8.664"
        ],
        [
         "44",
         "b11",
         "he4",
         "li7",
         "nacrnv",
         "-8.664"
        ],
        [
         "45",
         "b12",
         "n",
         "b11",
         "bb92rv",
         "-3.36937"
        ],
        [
         "46",
         "b12",
         "n",
         "b11",
         "bb92nv",
         "-3.36937"
        ],
        [
         "47",
         "b12",
         "he4",
         "li8",
         "fkthrv",
         "-9.99992"
        ],
        [
         "48",
         "b13",
         "n",
         "b12",
         "wiesrv",
         "-4.87937"
        ],
        [
         "49",
         "b13",
         "he4",
         "li9",
         "fkthrv",
         "-10.8169"
        ]
       ],
       "shape": {
        "columns": 5,
        "rows": 21518
       }
      },
      "text/html": [
       "<div>\n",
       "<style scoped>\n",
       "    .dataframe tbody tr th:only-of-type {\n",
       "        vertical-align: middle;\n",
       "    }\n",
       "\n",
       "    .dataframe tbody tr th {\n",
       "        vertical-align: top;\n",
       "    }\n",
       "\n",
       "    .dataframe thead th {\n",
       "        text-align: right;\n",
       "    }\n",
       "</style>\n",
       "<table border=\"1\" class=\"dataframe\">\n",
       "  <thead>\n",
       "    <tr style=\"text-align: right;\">\n",
       "      <th></th>\n",
       "      <th>reactants</th>\n",
       "      <th>product1</th>\n",
       "      <th>product2</th>\n",
       "      <th>source</th>\n",
       "      <th>Q value (Mev)</th>\n",
       "    </tr>\n",
       "  </thead>\n",
       "  <tbody>\n",
       "    <tr>\n",
       "      <th>0</th>\n",
       "      <td>d</td>\n",
       "      <td>n</td>\n",
       "      <td>p</td>\n",
       "      <td>an06nv</td>\n",
       "      <td>-2.22457</td>\n",
       "    </tr>\n",
       "    <tr>\n",
       "      <th>1</th>\n",
       "      <td>d</td>\n",
       "      <td>n</td>\n",
       "      <td>p</td>\n",
       "      <td>an06nv</td>\n",
       "      <td>-2.22457</td>\n",
       "    </tr>\n",
       "    <tr>\n",
       "      <th>2</th>\n",
       "      <td>d</td>\n",
       "      <td>n</td>\n",
       "      <td>p</td>\n",
       "      <td>an06nv</td>\n",
       "      <td>-2.22457</td>\n",
       "    </tr>\n",
       "    <tr>\n",
       "      <th>3</th>\n",
       "      <td>t</td>\n",
       "      <td>n</td>\n",
       "      <td>d</td>\n",
       "      <td>nk06nv</td>\n",
       "      <td>-6.25737</td>\n",
       "    </tr>\n",
       "    <tr>\n",
       "      <th>4</th>\n",
       "      <td>t</td>\n",
       "      <td>n</td>\n",
       "      <td>d</td>\n",
       "      <td>nk06nv</td>\n",
       "      <td>-6.25737</td>\n",
       "    </tr>\n",
       "    <tr>\n",
       "      <th>...</th>\n",
       "      <td>...</td>\n",
       "      <td>...</td>\n",
       "      <td>...</td>\n",
       "      <td>...</td>\n",
       "      <td>...</td>\n",
       "    </tr>\n",
       "    <tr>\n",
       "      <th>21513</th>\n",
       "      <td>rg336</td>\n",
       "      <td>nrg335</td>\n",
       "      <td>pkrF v</td>\n",
       "      <td>-1.59131e+00</td>\n",
       "      <td>NaN</td>\n",
       "    </tr>\n",
       "    <tr>\n",
       "      <th>21514</th>\n",
       "      <td>rg337</td>\n",
       "      <td>nrg336</td>\n",
       "      <td>pkrF v</td>\n",
       "      <td>-3.14131e+00</td>\n",
       "      <td>NaN</td>\n",
       "    </tr>\n",
       "    <tr>\n",
       "      <th>21515</th>\n",
       "      <td>rg338</td>\n",
       "      <td>nrg337</td>\n",
       "      <td>pkrF v</td>\n",
       "      <td>-1.79131e+00</td>\n",
       "      <td>NaN</td>\n",
       "    </tr>\n",
       "    <tr>\n",
       "      <th>21516</th>\n",
       "      <td>cn285</td>\n",
       "      <td>he4ds281</td>\n",
       "      <td>wc12s</td>\n",
       "      <td>9.32510e+00</td>\n",
       "      <td>NaN</td>\n",
       "    </tr>\n",
       "    <tr>\n",
       "      <th>21517</th>\n",
       "      <td>3</td>\n",
       "      <td>None</td>\n",
       "      <td>None</td>\n",
       "      <td>None</td>\n",
       "      <td>NaN</td>\n",
       "    </tr>\n",
       "  </tbody>\n",
       "</table>\n",
       "<p>21518 rows × 5 columns</p>\n",
       "</div>"
      ],
      "text/plain": [
       "      reactants  product1 product2        source  Q value (Mev)\n",
       "0             d         n        p        an06nv       -2.22457\n",
       "1             d         n        p        an06nv       -2.22457\n",
       "2             d         n        p        an06nv       -2.22457\n",
       "3             t         n        d        nk06nv       -6.25737\n",
       "4             t         n        d        nk06nv       -6.25737\n",
       "...         ...       ...      ...           ...            ...\n",
       "21513     rg336    nrg335   pkrF v  -1.59131e+00            NaN\n",
       "21514     rg337    nrg336   pkrF v  -3.14131e+00            NaN\n",
       "21515     rg338    nrg337   pkrF v  -1.79131e+00            NaN\n",
       "21516     cn285  he4ds281    wc12s   9.32510e+00            NaN\n",
       "21517         3      None     None          None            NaN\n",
       "\n",
       "[21518 rows x 5 columns]"
      ]
     },
     "execution_count": 84,
     "metadata": {},
     "output_type": "execute_result"
    }
   ],
   "source": [
    "nuclear_rates_chapter_2"
   ]
  }
 ],
 "metadata": {
  "kernelspec": {
   "display_name": "Python 3",
   "language": "python",
   "name": "python3"
  },
  "language_info": {
   "codemirror_mode": {
    "name": "ipython",
    "version": 3
   },
   "file_extension": ".py",
   "mimetype": "text/x-python",
   "name": "python",
   "nbconvert_exporter": "python",
   "pygments_lexer": "ipython3",
   "version": "3.10.11"
  }
 },
 "nbformat": 4,
 "nbformat_minor": 5
}
